{
 "cells": [
  {
   "cell_type": "markdown",
   "metadata": {},
   "source": [
    "# Answers\n",
    "\n",
    "You can edit this Jupyter notebook to include your answers and run any code that generates those answers or produces plots.  You can add additional cells for code or markdown as needed. This homework is primarily about having fun with interpolation. If any question is unclear, or there are any typos, let us know!"
   ]
  },
  {
   "cell_type": "code",
   "execution_count": 100,
   "metadata": {},
   "outputs": [],
   "source": [
    "import numpy as np\n",
    "import matplotlib.pyplot as plt\n",
    "import scipy as sp\n",
    "from scipy.special import roots_chebyt, roots_legendre\n",
    "from scipy.integrate import newton_cotes"
   ]
  },
  {
   "cell_type": "markdown",
   "metadata": {},
   "source": [
    "## Problem 0 (35 points)\n",
    "In this problem you will play around with interpolation using different choices of nodes.\n",
    "\n",
    "### Part A (10 points)\n",
    "Create a class that wraps `BarycentricInterpolator` to help you interpolate a function `f` on the interval `I=[a,b]` using a degree`n-1` polnynomial passing through `n` nodes. Your class should allow the user to choose between Chebyshev, Legendre, or equi-spaced nodes, but it should default to Chebyshev. \n",
    "\n",
    "You can get the Chebyshev nodes on the interval $[-1,1]$ using `scipy.special.roots_chebyt` and you can get the Gauss-Legendre nodes on the interval $[-1,1]$ using `scipy.special.roots_legendre`. Be sure to shift these nodes to the interval $I$.\n",
    "\n",
    "Your class should have three methods:\n",
    "* `__init__` which creates the interpolation nodes, evaluates the function at those nodes, and initializes a BarycentricInterpolator\n",
    "* `__call__` which evaluate the inerpolant a specified `x` using the `BarycentricInterpolator`\n",
    "* `__string__` which returns a handy description, which will eventually go into a legend\n",
    "\n",
    "To keep things neat, put your class in the module `interpolators.py`\n",
    "\n",
    "*Your answer here.  You can create some code cells as well*"
   ]
  },
  {
   "cell_type": "code",
   "execution_count": null,
   "metadata": {},
   "outputs": [],
   "source": []
  },
  {
   "cell_type": "markdown",
   "metadata": {},
   "source": [
    "### Part B (5 points)\n",
    "Create a class that wraps `interp1d` to create a linear spline (piecewise linear interpolant) of a function at equally spaced points. It should have the same methods as the class from part a."
   ]
  },
  {
   "cell_type": "code",
   "execution_count": null,
   "metadata": {},
   "outputs": [],
   "source": []
  },
  {
   "cell_type": "markdown",
   "metadata": {},
   "source": [
    "### Part C (5 points)\n",
    "Make a helper function `plot_data` in `interpolators.py` which easily plots data for you, with the calling sequence\n",
    "`plot_data(dats, legs, xlab, ylab)` where `dats` is a list of arrays to be plotted, `legs` is a list of the corresponding legend entries, and `xlab` and `ylab` are axis labels.\n",
    "\n",
    "For full marks, this plot should have all the elements discussed in class (different marker or line styles, thick lines, sensible font size, legend, etc...)."
   ]
  },
  {
   "cell_type": "code",
   "execution_count": null,
   "metadata": {},
   "outputs": [],
   "source": []
  },
  {
   "cell_type": "markdown",
   "metadata": {},
   "source": [
    "### Part D (10 points)\n",
    "In this question, you will use the classes from the pervious questions to interpolate the function $f(x)=\\frac{1}{1+25x^2}$ on the interval $I=[-1,1]$. Make a plot of the error generated when using all the methods to evaluate $f(1/e)$ for $n=2,3,\\ldots, 50$. Which of the **four** interpolation strategies performed best?"
   ]
  },
  {
   "cell_type": "code",
   "execution_count": null,
   "metadata": {},
   "outputs": [],
   "source": []
  },
  {
   "cell_type": "markdown",
   "metadata": {},
   "source": [
    "### Part E (5 points)\n",
    "Repeat part D using the function $f(x)=\\exp(x)$ on $I=[0,1]$. Do you notice anything different?"
   ]
  },
  {
   "cell_type": "code",
   "execution_count": null,
   "metadata": {},
   "outputs": [],
   "source": []
  },
  {
   "cell_type": "markdown",
   "metadata": {},
   "source": [
    "## Problem 1 (20 points)\n",
    "Modify your previous classes to integrate the function `f` over the interval `I`. To do this, you should modify the `__init__` routine to generate quadrature weights such that $\\int_a^bf(x)dx\\approx \\sum_i f(x_i) w_i$. You should also add a method `quad` that computes the sum, approximating the integral. \n",
    "\n",
    "The provided command for Legendre points already provides the required weights. To get the weights for the higher order interpolant through equispaced points, you can use `scipy.integrate.newton_cotes` (be aware of the default interval and number of points assumed by this function). The weights for the piecewise linear method are given in the course notes (see the Trapezoid rule). Be sure to rescale your weights so that the integral is computed over the interval $I=[a,b]$.\n",
    "\n",
    "**NOTE:** There isn't a simple Python function to get the weights using Chebyshev nodes, so for this homework, we will skip it. For those interested, the quadrature method based on Chebyshev nodes is called \"Clenshaw-Curtis quadrature\". In case you missed it, **don't bother trying to get the quadrature weights for Chebyshev nodes**.\n",
    "\n",
    "Test the accuracy of all three of your quadrature methods on the integral $\\int^0_{-2} \\frac{1}{1+25(x+1)^2} dx$ with $n=2,3,\\ldots, 50$. Which of your **three** methods performed best?"
   ]
  },
  {
   "cell_type": "code",
   "execution_count": null,
   "metadata": {},
   "outputs": [],
   "source": []
  },
  {
   "cell_type": "markdown",
   "metadata": {},
   "source": [
    "## Problem 2 (20 points)\n",
    "In this problem we will explore the simplest method for getting quadrature weights. For simplicity, we shall assume that we are working on the interval $[-1,1]$.\n",
    "\n",
    "Since quadrature rules are designed to integrate the polynomials of degree $n$ exactly, we can get the quadrature weights by ensure that this is so. If we have already chosen the nodes $x_0,\\ldots, x_n$, the we simply need to verify that\n",
    "\\begin{align*}\n",
    "2&=\\int_{-1}^1 1 dx = w_0 1+\\cdots w_n 1\\\\\n",
    "0&=\\int_{-1}^1 x dx = w_0 x_0+\\cdots w_n x_n\\\\\n",
    "\\frac{2}3&=\\int_{-1}^1 x^2 dx = w_0 x_0^2+\\cdots w_n x_n^2\\\\\n",
    "\\vdots \\\\\n",
    "\\frac{1-(-1)^n}{n+1}&=\\int_{-1}^1 x^n dx = w_0 x_0^n+\\cdots w_n x_n^n\n",
    "\\end{align*}\n",
    "Write a function which solves the above linear system for a provided set of nodes. The function `numpy.vander` will help you to generate the system matrix.\n",
    "\n",
    "You should test this function by finding the weights for computing an integral using 30 Gauss-Legendre nodes and comparing those weights to the weights provided by `scipy.special.roots_legendre`.\n",
    "\n",
    "Once you have tested your function, use it to find the Newton-Cotes weights using 30 nodes. How close are your weights to those provided by `scipy.integrate.newton_cotes`?\n"
   ]
  },
  {
   "cell_type": "code",
   "execution_count": null,
   "metadata": {},
   "outputs": [],
   "source": []
  },
  {
   "cell_type": "markdown",
   "metadata": {},
   "source": [
    "## Feedback\n",
    "\n",
    "If you would like share how long it took you to complete this assignment, it will help adjust the difficulty for future assignments.  You're welcome to share additional feedback as well."
   ]
  },
  {
   "cell_type": "code",
   "execution_count": null,
   "metadata": {},
   "outputs": [],
   "source": []
  }
 ],
 "metadata": {
  "kernelspec": {
   "display_name": "Python 3 (ipykernel)",
   "language": "python",
   "name": "python3"
  },
  "language_info": {
   "codemirror_mode": {
    "name": "ipython",
    "version": 3
   },
   "file_extension": ".py",
   "mimetype": "text/x-python",
   "name": "python",
   "nbconvert_exporter": "python",
   "pygments_lexer": "ipython3",
   "version": "3.8.17"
  }
 },
 "nbformat": 4,
 "nbformat_minor": 4
}
